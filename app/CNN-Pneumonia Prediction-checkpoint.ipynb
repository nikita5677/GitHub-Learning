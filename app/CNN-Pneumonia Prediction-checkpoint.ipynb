Import the Imagedata generator
In [3]:

from keras.preprocessing.image import ImageDataGenerator

In [4]:

train_data=ImageDataGenerator(rescale=1./255,shear_range=0.2,zoom_range=0.2,horizontal_flip=True)

In [5]:

test_data=ImageDataGenerator(rescale=1./255)

In [6]:

x_train=train_data.flow_from_directory(r"./train",target_size=(64,64),batch_size=32,class_mode='binary')

Found 202 images belonging to 2 classes.

In [53]:

x_test=test_data.flow_from_directory(r"./test",target_size=(64,64),batch_size=32,class_mode='binary')
x_test

Found 60 images belonging to 2 classes.

Out[53]:

<keras.preprocessing.image.DirectoryIterator at 0x7f41537e5ed0>

import the libraries
In [8]:

from keras.models import Sequential
from keras.layers import Dense
from keras.layers import Conv2D
from keras.layers import MaxPooling2D
from keras.layers import Flatten

In [9]:

model=Sequential()

In [12]:

model.add(Conv2D(32,(3,3),input_shape=(64,64,3),activation='relu'))

In [13]:

model.add(MaxPooling2D(pool_size=(2,2)))

In [14]:

model.add(Flatten())

In [15]:

model.add(Dense(units=128,init='uniform',activation='relu'))

/home/billu/anaconda3/lib/python3.7/site-packages/ipykernel_launcher.py:1: UserWarning: Update your `Dense` call to the Keras 2 API: `Dense(units=128, activation="relu", kernel_initializer="uniform")`
  """Entry point for launching an IPython kernel.

In [16]:

model.add(Dense(units=1,activation='sigmoid',init='uniform'))

/home/billu/anaconda3/lib/python3.7/site-packages/ipykernel_launcher.py:1: UserWarning: Update your `Dense` call to the Keras 2 API: `Dense(units=1, activation="sigmoid", kernel_initializer="uniform")`
  """Entry point for launching an IPython kernel.

In [17]:

model.compile(optimizer='adam',loss='binary_crossentropy',metrics=['accuracy'])

In [20]:

model.fit_generator(x_train,steps_per_epoch=7,epochs=50,validation_data=x_test,validation_steps=2)

Epoch 1/50
7/7 [==============================] - 13s 2s/step - loss: 0.7753 - accuracy: 0.5099 - val_loss: 0.8156 - val_accuracy: 0.5000
Epoch 2/50
7/7 [==============================] - 10s 1s/step - loss: 0.7052 - accuracy: 0.5050 - val_loss: 0.6983 - val_accuracy: 0.5000
Epoch 3/50
7/7 [==============================] - 7s 1s/step - loss: 0.6981 - accuracy: 0.4505 - val_loss: 0.6952 - val_accuracy: 0.5000
Epoch 4/50
7/7 [==============================] - 8s 1s/step - loss: 0.6941 - accuracy: 0.4653 - val_loss: 0.6899 - val_accuracy: 0.4833
Epoch 5/50
7/7 [==============================] - 7s 971ms/step - loss: 0.6918 - accuracy: 0.5347 - val_loss: 0.6900 - val_accuracy: 0.7500
Epoch 6/50
7/7 [==============================] - 7s 954ms/step - loss: 0.6900 - accuracy: 0.5792 - val_loss: 0.6854 - val_accuracy: 0.5833
Epoch 7/50
7/7 [==============================] - 7s 963ms/step - loss: 0.7042 - accuracy: 0.5248 - val_loss: 0.7086 - val_accuracy: 0.5000
Epoch 8/50
7/7 [==============================] - 7s 963ms/step - loss: 0.6922 - accuracy: 0.5149 - val_loss: 0.6737 - val_accuracy: 0.7833
Epoch 9/50
7/7 [==============================] - 7s 942ms/step - loss: 0.6837 - accuracy: 0.5941 - val_loss: 0.6682 - val_accuracy: 0.5333
Epoch 10/50
7/7 [==============================] - 7s 950ms/step - loss: 0.6809 - accuracy: 0.5149 - val_loss: 0.6417 - val_accuracy: 0.8333
Epoch 11/50
7/7 [==============================] - 7s 997ms/step - loss: 0.6774 - accuracy: 0.6089 - val_loss: 0.6158 - val_accuracy: 0.8333
Epoch 12/50
7/7 [==============================] - 8s 1s/step - loss: 0.6615 - accuracy: 0.5792 - val_loss: 0.6245 - val_accuracy: 0.5667
Epoch 13/50
7/7 [==============================] - 8s 1s/step - loss: 0.6798 - accuracy: 0.5545 - val_loss: 0.6421 - val_accuracy: 0.5333
Epoch 14/50
7/7 [==============================] - 8s 1s/step - loss: 0.6603 - accuracy: 0.6535 - val_loss: 0.6033 - val_accuracy: 0.8167
Epoch 15/50
7/7 [==============================] - 8s 1s/step - loss: 0.6416 - accuracy: 0.6634 - val_loss: 0.7726 - val_accuracy: 0.5000
Epoch 16/50
7/7 [==============================] - 8s 1s/step - loss: 0.6917 - accuracy: 0.5495 - val_loss: 0.6405 - val_accuracy: 0.5333
Epoch 17/50
7/7 [==============================] - 8s 1s/step - loss: 0.6518 - accuracy: 0.6188 - val_loss: 0.5967 - val_accuracy: 0.9000
Epoch 18/50
7/7 [==============================] - 7s 986ms/step - loss: 0.6412 - accuracy: 0.6238 - val_loss: 0.5607 - val_accuracy: 0.6500
Epoch 19/50
7/7 [==============================] - 7s 962ms/step - loss: 0.6386 - accuracy: 0.6485 - val_loss: 0.6860 - val_accuracy: 0.5667
Epoch 20/50
7/7 [==============================] - 7s 1s/step - loss: 0.6517 - accuracy: 0.6238 - val_loss: 0.6074 - val_accuracy: 0.8333
Epoch 21/50
7/7 [==============================] - 10s 1s/step - loss: 0.6592 - accuracy: 0.6535 - val_loss: 0.6488 - val_accuracy: 0.7667
Epoch 22/50
7/7 [==============================] - 8s 1s/step - loss: 0.6558 - accuracy: 0.6287 - val_loss: 0.6395 - val_accuracy: 0.6667
Epoch 23/50
7/7 [==============================] - 8s 1s/step - loss: 0.6345 - accuracy: 0.6386 - val_loss: 0.6758 - val_accuracy: 0.6333
Epoch 24/50
7/7 [==============================] - 8s 1s/step - loss: 0.6095 - accuracy: 0.6881 - val_loss: 0.5597 - val_accuracy: 0.5333
Epoch 25/50
7/7 [==============================] - 8s 1s/step - loss: 0.6424 - accuracy: 0.6040 - val_loss: 0.5263 - val_accuracy: 0.7500
Epoch 26/50
7/7 [==============================] - 8s 1s/step - loss: 0.6196 - accuracy: 0.6733 - val_loss: 0.6010 - val_accuracy: 0.5500
Epoch 27/50
7/7 [==============================] - 8s 1s/step - loss: 0.6101 - accuracy: 0.6683 - val_loss: 0.6061 - val_accuracy: 0.5833
Epoch 28/50
7/7 [==============================] - 8s 1s/step - loss: 0.6135 - accuracy: 0.6238 - val_loss: 0.5861 - val_accuracy: 0.6000
Epoch 29/50
7/7 [==============================] - 7s 998ms/step - loss: 0.6223 - accuracy: 0.6733 - val_loss: 0.6443 - val_accuracy: 0.5500
Epoch 30/50
7/7 [==============================] - 7s 954ms/step - loss: 0.6188 - accuracy: 0.6436 - val_loss: 0.6086 - val_accuracy: 0.6667
Epoch 31/50
7/7 [==============================] - 6s 900ms/step - loss: 0.5949 - accuracy: 0.6931 - val_loss: 0.6178 - val_accuracy: 0.7667
Epoch 32/50
7/7 [==============================] - 7s 975ms/step - loss: 0.5917 - accuracy: 0.6337 - val_loss: 0.6018 - val_accuracy: 0.7333
Epoch 33/50
7/7 [==============================] - 6s 928ms/step - loss: 0.5678 - accuracy: 0.6881 - val_loss: 0.5352 - val_accuracy: 0.6333
Epoch 34/50
7/7 [==============================] - 7s 1s/step - loss: 0.5496 - accuracy: 0.7129 - val_loss: 0.5337 - val_accuracy: 0.7500
Epoch 35/50
7/7 [==============================] - 8s 1s/step - loss: 0.5511 - accuracy: 0.7079 - val_loss: 0.4473 - val_accuracy: 0.7333
Epoch 36/50
7/7 [==============================] - 8s 1s/step - loss: 0.5764 - accuracy: 0.6881 - val_loss: 0.4183 - val_accuracy: 0.8833
Epoch 37/50
7/7 [==============================] - 8s 1s/step - loss: 0.6058 - accuracy: 0.6832 - val_loss: 0.5809 - val_accuracy: 0.5833
Epoch 38/50
7/7 [==============================] - 8s 1s/step - loss: 0.6059 - accuracy: 0.6386 - val_loss: 0.4766 - val_accuracy: 0.7833
Epoch 39/50
7/7 [==============================] - 8s 1s/step - loss: 0.5839 - accuracy: 0.6733 - val_loss: 0.5711 - val_accuracy: 0.6500
Epoch 40/50
7/7 [==============================] - 8s 1s/step - loss: 0.6031 - accuracy: 0.6337 - val_loss: 0.7233 - val_accuracy: 0.5500
Epoch 41/50
7/7 [==============================] - 8s 1s/step - loss: 0.5774 - accuracy: 0.7129 - val_loss: 0.4787 - val_accuracy: 0.5833
Epoch 42/50
7/7 [==============================] - 8s 1s/step - loss: 0.5588 - accuracy: 0.6881 - val_loss: 0.4708 - val_accuracy: 0.8000
Epoch 43/50
7/7 [==============================] - 7s 1s/step - loss: 0.5939 - accuracy: 0.7030 - val_loss: 0.4389 - val_accuracy: 0.6500
Epoch 44/50
7/7 [==============================] - 7s 935ms/step - loss: 0.6077 - accuracy: 0.6535 - val_loss: 0.4774 - val_accuracy: 0.7833
Epoch 45/50
7/7 [==============================] - 7s 958ms/step - loss: 0.6071 - accuracy: 0.6782 - val_loss: 0.6899 - val_accuracy: 0.5500
Epoch 46/50
7/7 [==============================] - 7s 944ms/step - loss: 0.5369 - accuracy: 0.7228 - val_loss: 0.6778 - val_accuracy: 0.5833
Epoch 47/50
7/7 [==============================] - 7s 950ms/step - loss: 0.5581 - accuracy: 0.6881 - val_loss: 0.5930 - val_accuracy: 0.6167
Epoch 48/50
7/7 [==============================] - 7s 960ms/step - loss: 0.5435 - accuracy: 0.7129 - val_loss: 0.4685 - val_accuracy: 0.6333
Epoch 49/50
7/7 [==============================] - 7s 947ms/step - loss: 0.5639 - accuracy: 0.7228 - val_loss: 0.3907 - val_accuracy: 0.7500
Epoch 50/50
7/7 [==============================] - 7s 945ms/step - loss: 0.5521 - accuracy: 0.6881 - val_loss: 0.4907 - val_accuracy: 0.8500

Out[20]:

<keras.callbacks.callbacks.History at 0x7f418802ae10>

In [21]:

model.save("cnn.h5")

In [24]:

from keras.models import load_model
from keras.preprocessing import image

In [25]:

model=load_model("cnn.h5")

In [26]:

import numpy as np

In [49]:

img=image.load_img(r"./test/normal/datasets_17810_23812_chest_xray_test_NORMAL_IM-0011-0001-0002.jpeg",target_size=(64,64))

In [50]:

x=image.img_to_array(img)
x=np.expand_dims(x,axis=0)

In [51]:

pred=model.predict_classes(x)

In [52]:

pred

Out[52]:

array([[0]], dtype=int32)

In [ ]:


